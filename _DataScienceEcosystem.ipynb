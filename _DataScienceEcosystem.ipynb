{
 "cells": [
  {
   "cell_type": "markdown",
   "id": "782a7664",
   "metadata": {},
   "source": [
    " # Data Science Tools and Ecosystem"
   ]
  },
  {
   "cell_type": "markdown",
   "id": "849723ea",
   "metadata": {},
   "source": [
    "In this notebook, Data Science Tools and Ecosystem are summarized."
   ]
  },
  {
   "cell_type": "markdown",
   "id": "539f8b55",
   "metadata": {},
   "source": [
    "**Objectives:**\n",
    "\n",
    "* Most popular Data Science languages\n",
    "- Commonly used Data Science libraries\n",
    "+ Data Science development environment tools (table)\n",
    "* Some arithmetic expressions"
   ]
  },
  {
   "cell_type": "markdown",
   "id": "b1613566",
   "metadata": {},
   "source": [
    "Some of the most popular data science languages are:\n",
    "\n",
    "1. Python\n",
    "2. R\n",
    "3. SQL\n",
    "4. Javascript\n",
    "5. Julia"
   ]
  },
  {
   "cell_type": "markdown",
   "id": "90a79b32",
   "metadata": {},
   "source": [
    "Some of the most commonly used data science libraries are:\n",
    "\n",
    "1. Pandas\n",
    "2. Numpy\n",
    "3. Matplotlib\n",
    "4. Scikit-learn\n",
    "5. PyTorch\n",
    "6. TensorFlow"
   ]
  },
  {
   "cell_type": "markdown",
   "id": "26b76f20",
   "metadata": {},
   "source": [
    "#Table of Data Science tools\n",
    "\n",
    "| Data Science Tools |\n",
    "| ------------------ |\n",
    "| Jupyter Notebook |\n",
    "| Apache Zeppelin |\n",
    "| Rstudio |"
   ]
  },
  {
   "cell_type": "markdown",
   "id": "7732952d",
   "metadata": {},
   "source": [
    "### There are a few examples of evaluating arithmetic expressions in Python"
   ]
  },
  {
   "cell_type": "code",
   "execution_count": 2,
   "id": "eae0524f",
   "metadata": {},
   "outputs": [
    {
     "data": {
      "text/plain": [
       "17"
      ]
     },
     "execution_count": 2,
     "metadata": {},
     "output_type": "execute_result"
    }
   ],
   "source": [
    "# This is the simple arithmetic expression of mutiplication and then addition of integers\n",
    "\n",
    "(3*4)+5"
   ]
  },
  {
   "cell_type": "code",
   "execution_count": 3,
   "id": "52850aa0",
   "metadata": {},
   "outputs": [
    {
     "data": {
      "text/plain": [
       "3.3333333333333335"
      ]
     },
     "execution_count": 3,
     "metadata": {},
     "output_type": "execute_result"
    }
   ],
   "source": [
    "# This code will convert 200 minutes to hours by diving with 60.\n",
    "\n",
    "minutes = 200\n",
    "hours = 200/60\n",
    "hours"
   ]
  },
  {
   "cell_type": "markdown",
   "id": "37975741",
   "metadata": {},
   "source": [
    "## Author\n",
    "\n",
    "Ahmad Jawad Mughal"
   ]
  },
  {
   "cell_type": "code",
   "execution_count": null,
   "id": "8a8ad5e3",
   "metadata": {},
   "outputs": [],
   "source": []
  }
 ],
 "metadata": {
  "kernelspec": {
   "display_name": "Python 3 (ipykernel)",
   "language": "python",
   "name": "python3"
  },
  "language_info": {
   "codemirror_mode": {
    "name": "ipython",
    "version": 3
   },
   "file_extension": ".py",
   "mimetype": "text/x-python",
   "name": "python",
   "nbconvert_exporter": "python",
   "pygments_lexer": "ipython3",
   "version": "3.10.9"
  }
 },
 "nbformat": 4,
 "nbformat_minor": 5
}
